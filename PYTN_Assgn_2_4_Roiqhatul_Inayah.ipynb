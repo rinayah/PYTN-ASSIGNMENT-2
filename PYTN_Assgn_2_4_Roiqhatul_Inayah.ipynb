{
 "cells": [
  {
   "cell_type": "markdown",
   "id": "d31b0290",
   "metadata": {},
   "source": [
    "## Measure of Central Tendency : Mean"
   ]
  },
  {
   "cell_type": "code",
   "execution_count": 1,
   "id": "f5814fac",
   "metadata": {},
   "outputs": [],
   "source": [
    "import numpy as np\n",
    "import pandas as pd\n",
    "import seaborn as sns\n",
    "import matplotlib.pyplot as plt\n",
    "import statistics\n",
    "import math\n",
    "import scipy.stats"
   ]
  },
  {
   "cell_type": "code",
   "execution_count": 2,
   "id": "8236c9fe",
   "metadata": {},
   "outputs": [
    {
     "data": {
      "text/html": [
       "<div>\n",
       "<style scoped>\n",
       "    .dataframe tbody tr th:only-of-type {\n",
       "        vertical-align: middle;\n",
       "    }\n",
       "\n",
       "    .dataframe tbody tr th {\n",
       "        vertical-align: top;\n",
       "    }\n",
       "\n",
       "    .dataframe thead th {\n",
       "        text-align: right;\n",
       "    }\n",
       "</style>\n",
       "<table border=\"1\" class=\"dataframe\">\n",
       "  <thead>\n",
       "    <tr style=\"text-align: right;\">\n",
       "      <th></th>\n",
       "      <th>Unnamed: 0</th>\n",
       "      <th>BOROUGH</th>\n",
       "      <th>NEIGHBORHOOD</th>\n",
       "      <th>BUILDING CLASS CATEGORY</th>\n",
       "      <th>TAX CLASS AT PRESENT</th>\n",
       "      <th>BLOCK</th>\n",
       "      <th>LOT</th>\n",
       "      <th>EASE-MENT</th>\n",
       "      <th>BUILDING CLASS AT PRESENT</th>\n",
       "      <th>ADDRESS</th>\n",
       "      <th>...</th>\n",
       "      <th>RESIDENTIAL UNITS</th>\n",
       "      <th>COMMERCIAL UNITS</th>\n",
       "      <th>TOTAL UNITS</th>\n",
       "      <th>LAND SQUARE FEET</th>\n",
       "      <th>GROSS SQUARE FEET</th>\n",
       "      <th>YEAR BUILT</th>\n",
       "      <th>TAX CLASS AT TIME OF SALE</th>\n",
       "      <th>BUILDING CLASS AT TIME OF SALE</th>\n",
       "      <th>SALE PRICE</th>\n",
       "      <th>SALE DATE</th>\n",
       "    </tr>\n",
       "  </thead>\n",
       "  <tbody>\n",
       "    <tr>\n",
       "      <th>0</th>\n",
       "      <td>4</td>\n",
       "      <td>1</td>\n",
       "      <td>ALPHABET CITY</td>\n",
       "      <td>07 RENTALS - WALKUP APARTMENTS</td>\n",
       "      <td>2A</td>\n",
       "      <td>392</td>\n",
       "      <td>6</td>\n",
       "      <td></td>\n",
       "      <td>C2</td>\n",
       "      <td>153 AVENUE B</td>\n",
       "      <td>...</td>\n",
       "      <td>5</td>\n",
       "      <td>0</td>\n",
       "      <td>5</td>\n",
       "      <td>1633.0</td>\n",
       "      <td>6440.0</td>\n",
       "      <td>1900</td>\n",
       "      <td>2</td>\n",
       "      <td>C2</td>\n",
       "      <td>6625000.0</td>\n",
       "      <td>2017-07-19 00:00:00</td>\n",
       "    </tr>\n",
       "    <tr>\n",
       "      <th>1</th>\n",
       "      <td>5</td>\n",
       "      <td>1</td>\n",
       "      <td>ALPHABET CITY</td>\n",
       "      <td>07 RENTALS - WALKUP APARTMENTS</td>\n",
       "      <td>2</td>\n",
       "      <td>399</td>\n",
       "      <td>26</td>\n",
       "      <td></td>\n",
       "      <td>C7</td>\n",
       "      <td>234 EAST 4TH   STREET</td>\n",
       "      <td>...</td>\n",
       "      <td>28</td>\n",
       "      <td>3</td>\n",
       "      <td>31</td>\n",
       "      <td>4616.0</td>\n",
       "      <td>18690.0</td>\n",
       "      <td>1900</td>\n",
       "      <td>2</td>\n",
       "      <td>C7</td>\n",
       "      <td>NaN</td>\n",
       "      <td>2016-12-14 00:00:00</td>\n",
       "    </tr>\n",
       "  </tbody>\n",
       "</table>\n",
       "<p>2 rows × 22 columns</p>\n",
       "</div>"
      ],
      "text/plain": [
       "   Unnamed: 0  BOROUGH   NEIGHBORHOOD  \\\n",
       "0           4        1  ALPHABET CITY   \n",
       "1           5        1  ALPHABET CITY   \n",
       "\n",
       "                       BUILDING CLASS CATEGORY TAX CLASS AT PRESENT  BLOCK  \\\n",
       "0  07 RENTALS - WALKUP APARTMENTS                                2A    392   \n",
       "1  07 RENTALS - WALKUP APARTMENTS                                 2    399   \n",
       "\n",
       "   LOT EASE-MENT BUILDING CLASS AT PRESENT                ADDRESS  ...  \\\n",
       "0    6                                  C2           153 AVENUE B  ...   \n",
       "1   26                                  C7  234 EAST 4TH   STREET  ...   \n",
       "\n",
       "  RESIDENTIAL UNITS  COMMERCIAL UNITS  TOTAL UNITS  LAND SQUARE FEET  \\\n",
       "0                 5                 0            5            1633.0   \n",
       "1                28                 3           31            4616.0   \n",
       "\n",
       "   GROSS SQUARE FEET  YEAR BUILT  TAX CLASS AT TIME OF SALE  \\\n",
       "0             6440.0        1900                          2   \n",
       "1            18690.0        1900                          2   \n",
       "\n",
       "   BUILDING CLASS AT TIME OF SALE  SALE PRICE            SALE DATE  \n",
       "0                              C2   6625000.0  2017-07-19 00:00:00  \n",
       "1                              C7         NaN  2016-12-14 00:00:00  \n",
       "\n",
       "[2 rows x 22 columns]"
      ]
     },
     "execution_count": 2,
     "metadata": {},
     "output_type": "execute_result"
    }
   ],
   "source": [
    "df_nyc = pd.read_csv('nyc-rolling-sales.csv', na_values=['n/a', 'na', '-', '--', ' -  '])\n",
    "df_nyc.head(2)"
   ]
  },
  {
   "cell_type": "code",
   "execution_count": 3,
   "id": "d0c1757a",
   "metadata": {},
   "outputs": [
    {
     "data": {
      "text/plain": [
       "Index(['Unnamed: 0', 'BOROUGH', 'NEIGHBORHOOD', 'BUILDING CLASS CATEGORY',\n",
       "       'TAX CLASS AT PRESENT', 'BLOCK', 'LOT', 'EASE-MENT',\n",
       "       'BUILDING CLASS AT PRESENT', 'ADDRESS', 'APARTMENT NUMBER', 'ZIP CODE',\n",
       "       'RESIDENTIAL UNITS', 'COMMERCIAL UNITS', 'TOTAL UNITS',\n",
       "       'LAND SQUARE FEET', 'GROSS SQUARE FEET', 'YEAR BUILT',\n",
       "       'TAX CLASS AT TIME OF SALE', 'BUILDING CLASS AT TIME OF SALE',\n",
       "       'SALE PRICE', 'SALE DATE'],\n",
       "      dtype='object')"
      ]
     },
     "execution_count": 3,
     "metadata": {},
     "output_type": "execute_result"
    }
   ],
   "source": [
    "df_nyc.columns"
   ]
  },
  {
   "cell_type": "code",
   "execution_count": 4,
   "id": "314add25",
   "metadata": {},
   "outputs": [
    {
     "data": {
      "text/plain": [
       "array(['ALPHABET CITY', 'CHELSEA', 'CHINATOWN', 'CIVIC CENTER', 'CLINTON',\n",
       "       'EAST VILLAGE', 'FASHION', 'FINANCIAL', 'FLATIRON', 'GRAMERCY',\n",
       "       'GREENWICH VILLAGE-CENTRAL', 'GREENWICH VILLAGE-WEST',\n",
       "       'HARLEM-CENTRAL', 'HARLEM-EAST', 'HARLEM-UPPER', 'HARLEM-WEST',\n",
       "       'INWOOD', 'JAVITS CENTER', 'KIPS BAY', 'LITTLE ITALY',\n",
       "       'LOWER EAST SIDE', 'MANHATTAN VALLEY', 'MIDTOWN CBD',\n",
       "       'MIDTOWN EAST', 'MIDTOWN WEST', 'MORNINGSIDE HEIGHTS',\n",
       "       'MURRAY HILL', 'ROOSEVELT ISLAND', 'SOHO', 'SOUTHBRIDGE',\n",
       "       'TRIBECA', 'UPPER EAST SIDE (59-79)', 'UPPER EAST SIDE (79-96)',\n",
       "       'UPPER EAST SIDE (96-110)', 'UPPER WEST SIDE (59-79)',\n",
       "       'UPPER WEST SIDE (79-96)', 'UPPER WEST SIDE (96-116)',\n",
       "       'WASHINGTON HEIGHTS LOWER', 'WASHINGTON HEIGHTS UPPER', 'BATHGATE',\n",
       "       'BAYCHESTER', 'BEDFORD PARK/NORWOOD', 'BELMONT', 'BRONX PARK',\n",
       "       'BRONXDALE', 'CASTLE HILL/UNIONPORT', 'CITY ISLAND',\n",
       "       'CITY ISLAND-PELHAM STRIP', 'CO-OP CITY', 'COUNTRY CLUB',\n",
       "       'CROTONA PARK', 'EAST RIVER', 'EAST TREMONT', 'FIELDSTON',\n",
       "       'FORDHAM', 'HIGHBRIDGE/MORRIS HEIGHTS', 'HUNTS POINT',\n",
       "       'KINGSBRIDGE HTS/UNIV HTS', 'KINGSBRIDGE/JEROME PARK',\n",
       "       'MELROSE/CONCOURSE', 'MORRIS PARK/VAN NEST', 'MORRISANIA/LONGWOOD',\n",
       "       'MOTT HAVEN/PORT MORRIS', 'MOUNT HOPE/MOUNT EDEN', 'PARKCHESTER',\n",
       "       'PELHAM BAY', 'PELHAM GARDENS', 'PELHAM PARKWAY NORTH',\n",
       "       'PELHAM PARKWAY SOUTH', 'RIVERDALE', 'SCHUYLERVILLE/PELHAM BAY',\n",
       "       'SOUNDVIEW', 'THROGS NECK', 'VAN CORTLANDT PARK', 'WAKEFIELD',\n",
       "       'WESTCHESTER', 'WILLIAMSBRIDGE', 'WOODLAWN', 'BATH BEACH',\n",
       "       'BAY RIDGE', 'BEDFORD STUYVESANT', 'BENSONHURST', 'BERGEN BEACH',\n",
       "       'BOERUM HILL', 'BOROUGH PARK', 'BRIGHTON BEACH',\n",
       "       'BROOKLYN HEIGHTS', 'BROWNSVILLE', 'BUSH TERMINAL', 'BUSHWICK',\n",
       "       'CANARSIE', 'CARROLL GARDENS', 'CLINTON HILL', 'COBBLE HILL',\n",
       "       'COBBLE HILL-WEST', 'CONEY ISLAND', 'CROWN HEIGHTS',\n",
       "       'CYPRESS HILLS', 'DOWNTOWN-FULTON FERRY', 'DOWNTOWN-FULTON MALL',\n",
       "       'DOWNTOWN-METROTECH', 'DYKER HEIGHTS', 'EAST NEW YORK',\n",
       "       'FLATBUSH-CENTRAL', 'FLATBUSH-EAST', 'FLATBUSH-LEFFERTS GARDEN',\n",
       "       'FLATBUSH-NORTH', 'FLATLANDS', 'FORT GREENE', 'GERRITSEN BEACH',\n",
       "       'GOWANUS', 'GRAVESEND', 'GREENPOINT', 'JAMAICA BAY', 'KENSINGTON',\n",
       "       'MADISON', 'MANHATTAN BEACH', 'MARINE PARK', 'MIDWOOD',\n",
       "       'MILL BASIN', 'NAVY YARD', 'OCEAN HILL', 'OCEAN PARKWAY-NORTH',\n",
       "       'OCEAN PARKWAY-SOUTH', 'OLD MILL BASIN', 'PARK SLOPE',\n",
       "       'PARK SLOPE SOUTH', 'PROSPECT HEIGHTS', 'RED HOOK', 'SEAGATE',\n",
       "       'SHEEPSHEAD BAY', 'SPRING CREEK', 'SUNSET PARK',\n",
       "       'WILLIAMSBURG-CENTRAL', 'WILLIAMSBURG-EAST', 'WILLIAMSBURG-NORTH',\n",
       "       'WILLIAMSBURG-SOUTH', 'WINDSOR TERRACE', 'WYCKOFF HEIGHTS',\n",
       "       'AIRPORT LA GUARDIA', 'ARVERNE', 'ASTORIA', 'BAYSIDE',\n",
       "       'BEECHHURST', 'BELLE HARBOR', 'BELLEROSE', 'BRIARWOOD',\n",
       "       'BROAD CHANNEL', 'CAMBRIA HEIGHTS', 'COLLEGE POINT', 'CORONA',\n",
       "       'DOUGLASTON', 'EAST ELMHURST', 'ELMHURST', 'FAR ROCKAWAY',\n",
       "       'FLORAL PARK', 'FLUSHING MEADOW PARK', 'FLUSHING-NORTH',\n",
       "       'FLUSHING-SOUTH', 'FOREST HILLS', 'FRESH MEADOWS', 'GLEN OAKS',\n",
       "       'GLENDALE', 'HAMMELS', 'HILLCREST', 'HOLLIS', 'HOLLIS HILLS',\n",
       "       'HOLLISWOOD', 'HOWARD BEACH', 'JACKSON HEIGHTS', 'JAMAICA',\n",
       "       'JAMAICA ESTATES', 'JAMAICA HILLS', 'KEW GARDENS', 'LAURELTON',\n",
       "       'LITTLE NECK', 'LONG ISLAND CITY', 'MASPETH', 'MIDDLE VILLAGE',\n",
       "       'NEPONSIT', 'OAKLAND GARDENS', 'OZONE PARK', 'QUEENS VILLAGE',\n",
       "       'REGO PARK', 'RICHMOND HILL', 'RIDGEWOOD', 'ROCKAWAY PARK',\n",
       "       'ROSEDALE', 'SO. JAMAICA-BAISLEY PARK', 'SOUTH JAMAICA',\n",
       "       'SOUTH OZONE PARK', 'SPRINGFIELD GARDENS', 'ST. ALBANS',\n",
       "       'SUNNYSIDE', 'WHITESTONE', 'WOODHAVEN', 'WOODSIDE', 'ANNADALE',\n",
       "       'ARDEN HEIGHTS', 'ARROCHAR', 'ARROCHAR-SHORE ACRES', 'BLOOMFIELD',\n",
       "       'BULLS HEAD', 'CASTLETON CORNERS', 'CLOVE LAKES', 'CONCORD',\n",
       "       'CONCORD-FOX HILLS', 'DONGAN HILLS', 'DONGAN HILLS-COLONY',\n",
       "       'DONGAN HILLS-OLD TOWN', 'ELTINGVILLE', 'EMERSON HILL',\n",
       "       'FRESH KILLS', 'GRANT CITY', 'GRASMERE', 'GREAT KILLS',\n",
       "       'GREAT KILLS-BAY TERRACE', 'GRYMES HILL', 'HUGUENOT', 'LIVINGSTON',\n",
       "       'MANOR HEIGHTS', 'MARINERS HARBOR', 'MIDLAND BEACH',\n",
       "       'NEW BRIGHTON', 'NEW BRIGHTON-ST. GEORGE', 'NEW DORP',\n",
       "       'NEW DORP-BEACH', 'NEW DORP-HEIGHTS', 'NEW SPRINGVILLE', 'OAKWOOD',\n",
       "       'OAKWOOD-BEACH', 'PLEASANT PLAINS', 'PORT IVORY', 'PORT RICHMOND',\n",
       "       'PRINCES BAY', 'RICHMONDTOWN', 'RICHMONDTOWN-LIGHTHS HILL',\n",
       "       'ROSEBANK', 'ROSSVILLE', 'ROSSVILLE-CHARLESTON',\n",
       "       'ROSSVILLE-PORT MOBIL', 'ROSSVILLE-RICHMOND VALLEY', 'SILVER LAKE',\n",
       "       'SOUTH BEACH', 'STAPLETON', 'STAPLETON-CLIFTON', 'TODT HILL',\n",
       "       'TOMPKINSVILLE', 'TOTTENVILLE', 'TRAVIS', 'WEST NEW BRIGHTON',\n",
       "       'WESTERLEIGH', 'WILLOWBROOK', 'WOODROW'], dtype=object)"
      ]
     },
     "execution_count": 4,
     "metadata": {},
     "output_type": "execute_result"
    }
   ],
   "source": [
    "df_nyc['NEIGHBORHOOD'].unique()"
   ]
  },
  {
   "cell_type": "code",
   "execution_count": 5,
   "id": "4d988d10",
   "metadata": {},
   "outputs": [
    {
     "data": {
      "text/plain": [
       "Unnamed: 0                            0\n",
       "BOROUGH                               0\n",
       "NEIGHBORHOOD                          0\n",
       "BUILDING CLASS CATEGORY               0\n",
       "TAX CLASS AT PRESENT                  0\n",
       "BLOCK                                 0\n",
       "LOT                                   0\n",
       "EASE-MENT                             0\n",
       "BUILDING CLASS AT PRESENT             0\n",
       "ADDRESS                               0\n",
       "APARTMENT NUMBER                      0\n",
       "ZIP CODE                              0\n",
       "RESIDENTIAL UNITS                     0\n",
       "COMMERCIAL UNITS                      0\n",
       "TOTAL UNITS                           0\n",
       "LAND SQUARE FEET                  26252\n",
       "GROSS SQUARE FEET                 27612\n",
       "YEAR BUILT                            0\n",
       "TAX CLASS AT TIME OF SALE             0\n",
       "BUILDING CLASS AT TIME OF SALE        0\n",
       "SALE PRICE                        14561\n",
       "SALE DATE                             0\n",
       "dtype: int64"
      ]
     },
     "execution_count": 5,
     "metadata": {},
     "output_type": "execute_result"
    }
   ],
   "source": [
    "df_nyc.isna().sum() # mencari data null"
   ]
  },
  {
   "cell_type": "code",
   "execution_count": 6,
   "id": "3bbccf47",
   "metadata": {},
   "outputs": [
    {
     "data": {
      "text/plain": [
       "array(['07 RENTALS - WALKUP APARTMENTS             ',\n",
       "       '08 RENTALS - ELEVATOR APARTMENTS           ',\n",
       "       '09 COOPS - WALKUP APARTMENTS               ',\n",
       "       '10 COOPS - ELEVATOR APARTMENTS             ',\n",
       "       '11A CONDO-RENTALS                           ',\n",
       "       '12 CONDOS - WALKUP APARTMENTS              ',\n",
       "       '13 CONDOS - ELEVATOR APARTMENTS            ',\n",
       "       '14 RENTALS - 4-10 UNIT                     ',\n",
       "       '15 CONDOS - 2-10 UNIT RESIDENTIAL          ',\n",
       "       '16 CONDOS - 2-10 UNIT WITH COMMERCIAL UNIT ',\n",
       "       '17 CONDO COOPS                             ',\n",
       "       '22 STORE BUILDINGS                         ',\n",
       "       '37 RELIGIOUS FACILITIES                    ',\n",
       "       '42 CONDO CULTURAL/MEDICAL/EDUCATIONAL/ETC  ',\n",
       "       '46 CONDO STORE BUILDINGS                   ',\n",
       "       '47 CONDO NON-BUSINESS STORAGE              ',\n",
       "       '01 ONE FAMILY DWELLINGS                    ',\n",
       "       '02 TWO FAMILY DWELLINGS                    ',\n",
       "       '03 THREE FAMILY DWELLINGS                  ',\n",
       "       '04 TAX CLASS 1 CONDOS                      ',\n",
       "       '21 OFFICE BUILDINGS                        ',\n",
       "       '23 LOFT BUILDINGS                          ',\n",
       "       '25 LUXURY HOTELS                           ',\n",
       "       '26 OTHER HOTELS                            ',\n",
       "       '28 COMMERCIAL CONDOS                       ',\n",
       "       '29 COMMERCIAL GARAGES                      ',\n",
       "       '35 INDOOR PUBLIC AND CULTURAL FACILITIES   ',\n",
       "       '38 ASYLUMS AND HOMES                       ',\n",
       "       '43 CONDO OFFICE BUILDINGS                  ',\n",
       "       '44 CONDO PARKING                           ',\n",
       "       '48 CONDO TERRACES/GARDENS/CABANAS          ',\n",
       "       '31 COMMERCIAL VACANT LAND                  ',\n",
       "       '32 HOSPITAL AND HEALTH FACILITIES          ',\n",
       "       '41 TAX CLASS 4 - OTHER                     ',\n",
       "       '18 TAX CLASS 3 - UNTILITY PROPERTIES       ',\n",
       "       '30 WAREHOUSES                              ',\n",
       "       '36 OUTDOOR RECREATIONAL FACILITIES         ',\n",
       "       '49 CONDO WAREHOUSES/FACTORY/INDUS          ',\n",
       "       '34 THEATRES                                ',\n",
       "       '27 FACTORIES                               ',\n",
       "       '40 SELECTED GOVERNMENTAL FACILITIES        ',\n",
       "       '45 CONDO HOTELS                            ',\n",
       "       '33 EDUCATIONAL FACILITIES                  ',\n",
       "       '11 SPECIAL CONDO BILLING LOTS              ',\n",
       "       '05 TAX CLASS 1 VACANT LAND                 ',\n",
       "       '06 TAX CLASS 1 - OTHER                     ',\n",
       "       '39 TRANSPORTATION FACILITIES               '], dtype=object)"
      ]
     },
     "execution_count": 6,
     "metadata": {},
     "output_type": "execute_result"
    }
   ],
   "source": [
    "df_nyc['BUILDING CLASS CATEGORY'].unique()"
   ]
  },
  {
   "cell_type": "code",
   "execution_count": 7,
   "id": "24566509",
   "metadata": {},
   "outputs": [
    {
     "data": {
      "text/html": [
       "<div>\n",
       "<style scoped>\n",
       "    .dataframe tbody tr th:only-of-type {\n",
       "        vertical-align: middle;\n",
       "    }\n",
       "\n",
       "    .dataframe tbody tr th {\n",
       "        vertical-align: top;\n",
       "    }\n",
       "\n",
       "    .dataframe thead th {\n",
       "        text-align: right;\n",
       "    }\n",
       "</style>\n",
       "<table border=\"1\" class=\"dataframe\">\n",
       "  <thead>\n",
       "    <tr style=\"text-align: right;\">\n",
       "      <th></th>\n",
       "      <th>Unnamed: 0</th>\n",
       "      <th>BOROUGH</th>\n",
       "      <th>NEIGHBORHOOD</th>\n",
       "      <th>BUILDING CLASS CATEGORY</th>\n",
       "      <th>TAX CLASS AT PRESENT</th>\n",
       "      <th>BLOCK</th>\n",
       "      <th>LOT</th>\n",
       "      <th>EASE-MENT</th>\n",
       "      <th>BUILDING CLASS AT PRESENT</th>\n",
       "      <th>ADDRESS</th>\n",
       "      <th>...</th>\n",
       "      <th>RESIDENTIAL UNITS</th>\n",
       "      <th>COMMERCIAL UNITS</th>\n",
       "      <th>TOTAL UNITS</th>\n",
       "      <th>LAND SQUARE FEET</th>\n",
       "      <th>GROSS SQUARE FEET</th>\n",
       "      <th>YEAR BUILT</th>\n",
       "      <th>TAX CLASS AT TIME OF SALE</th>\n",
       "      <th>BUILDING CLASS AT TIME OF SALE</th>\n",
       "      <th>SALE PRICE</th>\n",
       "      <th>SALE DATE</th>\n",
       "    </tr>\n",
       "  </thead>\n",
       "  <tbody>\n",
       "    <tr>\n",
       "      <th>49607</th>\n",
       "      <td>209</td>\n",
       "      <td>4</td>\n",
       "      <td>ASTORIA</td>\n",
       "      <td>01 ONE FAMILY DWELLINGS</td>\n",
       "      <td>1</td>\n",
       "      <td>534</td>\n",
       "      <td>28</td>\n",
       "      <td></td>\n",
       "      <td>S1</td>\n",
       "      <td>30-83 14TH   STREET</td>\n",
       "      <td>...</td>\n",
       "      <td>1</td>\n",
       "      <td>1</td>\n",
       "      <td>2</td>\n",
       "      <td>2426.0</td>\n",
       "      <td>2512.0</td>\n",
       "      <td>1920</td>\n",
       "      <td>1</td>\n",
       "      <td>S1</td>\n",
       "      <td>NaN</td>\n",
       "      <td>2017-01-25 00:00:00</td>\n",
       "    </tr>\n",
       "    <tr>\n",
       "      <th>49608</th>\n",
       "      <td>210</td>\n",
       "      <td>4</td>\n",
       "      <td>ASTORIA</td>\n",
       "      <td>01 ONE FAMILY DWELLINGS</td>\n",
       "      <td>1</td>\n",
       "      <td>552</td>\n",
       "      <td>19</td>\n",
       "      <td></td>\n",
       "      <td>S1</td>\n",
       "      <td>21-10 31ST   AVENUE</td>\n",
       "      <td>...</td>\n",
       "      <td>1</td>\n",
       "      <td>1</td>\n",
       "      <td>2</td>\n",
       "      <td>2850.0</td>\n",
       "      <td>3276.0</td>\n",
       "      <td>1984</td>\n",
       "      <td>1</td>\n",
       "      <td>S1</td>\n",
       "      <td>2500000.0</td>\n",
       "      <td>2017-04-12 00:00:00</td>\n",
       "    </tr>\n",
       "    <tr>\n",
       "      <th>49609</th>\n",
       "      <td>211</td>\n",
       "      <td>4</td>\n",
       "      <td>ASTORIA</td>\n",
       "      <td>01 ONE FAMILY DWELLINGS</td>\n",
       "      <td>1</td>\n",
       "      <td>565</td>\n",
       "      <td>42</td>\n",
       "      <td></td>\n",
       "      <td>A5</td>\n",
       "      <td>23-21 33RD   ROAD</td>\n",
       "      <td>...</td>\n",
       "      <td>1</td>\n",
       "      <td>0</td>\n",
       "      <td>1</td>\n",
       "      <td>1566.0</td>\n",
       "      <td>1224.0</td>\n",
       "      <td>1945</td>\n",
       "      <td>1</td>\n",
       "      <td>A5</td>\n",
       "      <td>625000.0</td>\n",
       "      <td>2017-03-23 00:00:00</td>\n",
       "    </tr>\n",
       "    <tr>\n",
       "      <th>49610</th>\n",
       "      <td>212</td>\n",
       "      <td>4</td>\n",
       "      <td>ASTORIA</td>\n",
       "      <td>01 ONE FAMILY DWELLINGS</td>\n",
       "      <td>1</td>\n",
       "      <td>565</td>\n",
       "      <td>42</td>\n",
       "      <td></td>\n",
       "      <td>A5</td>\n",
       "      <td>23-21 33RD ROAD</td>\n",
       "      <td>...</td>\n",
       "      <td>1</td>\n",
       "      <td>0</td>\n",
       "      <td>1</td>\n",
       "      <td>1566.0</td>\n",
       "      <td>1224.0</td>\n",
       "      <td>1945</td>\n",
       "      <td>1</td>\n",
       "      <td>A5</td>\n",
       "      <td>550000.0</td>\n",
       "      <td>2016-12-09 00:00:00</td>\n",
       "    </tr>\n",
       "    <tr>\n",
       "      <th>49611</th>\n",
       "      <td>213</td>\n",
       "      <td>4</td>\n",
       "      <td>ASTORIA</td>\n",
       "      <td>01 ONE FAMILY DWELLINGS</td>\n",
       "      <td>1</td>\n",
       "      <td>622</td>\n",
       "      <td>60</td>\n",
       "      <td></td>\n",
       "      <td>A3</td>\n",
       "      <td>32-36 35TH   STREET</td>\n",
       "      <td>...</td>\n",
       "      <td>1</td>\n",
       "      <td>0</td>\n",
       "      <td>1</td>\n",
       "      <td>2500.0</td>\n",
       "      <td>1204.0</td>\n",
       "      <td>1920</td>\n",
       "      <td>1</td>\n",
       "      <td>A3</td>\n",
       "      <td>NaN</td>\n",
       "      <td>2017-07-12 00:00:00</td>\n",
       "    </tr>\n",
       "  </tbody>\n",
       "</table>\n",
       "<p>5 rows × 22 columns</p>\n",
       "</div>"
      ],
      "text/plain": [
       "       Unnamed: 0  BOROUGH NEIGHBORHOOD  \\\n",
       "49607         209        4      ASTORIA   \n",
       "49608         210        4      ASTORIA   \n",
       "49609         211        4      ASTORIA   \n",
       "49610         212        4      ASTORIA   \n",
       "49611         213        4      ASTORIA   \n",
       "\n",
       "                           BUILDING CLASS CATEGORY TAX CLASS AT PRESENT  \\\n",
       "49607  01 ONE FAMILY DWELLINGS                                        1   \n",
       "49608  01 ONE FAMILY DWELLINGS                                        1   \n",
       "49609  01 ONE FAMILY DWELLINGS                                        1   \n",
       "49610  01 ONE FAMILY DWELLINGS                                        1   \n",
       "49611  01 ONE FAMILY DWELLINGS                                        1   \n",
       "\n",
       "       BLOCK  LOT EASE-MENT BUILDING CLASS AT PRESENT              ADDRESS  \\\n",
       "49607    534   28                                  S1  30-83 14TH   STREET   \n",
       "49608    552   19                                  S1  21-10 31ST   AVENUE   \n",
       "49609    565   42                                  A5    23-21 33RD   ROAD   \n",
       "49610    565   42                                  A5      23-21 33RD ROAD   \n",
       "49611    622   60                                  A3  32-36 35TH   STREET   \n",
       "\n",
       "       ... RESIDENTIAL UNITS  COMMERCIAL UNITS  TOTAL UNITS  LAND SQUARE FEET  \\\n",
       "49607  ...                 1                 1            2            2426.0   \n",
       "49608  ...                 1                 1            2            2850.0   \n",
       "49609  ...                 1                 0            1            1566.0   \n",
       "49610  ...                 1                 0            1            1566.0   \n",
       "49611  ...                 1                 0            1            2500.0   \n",
       "\n",
       "       GROSS SQUARE FEET  YEAR BUILT  TAX CLASS AT TIME OF SALE  \\\n",
       "49607             2512.0        1920                          1   \n",
       "49608             3276.0        1984                          1   \n",
       "49609             1224.0        1945                          1   \n",
       "49610             1224.0        1945                          1   \n",
       "49611             1204.0        1920                          1   \n",
       "\n",
       "       BUILDING CLASS AT TIME OF SALE  SALE PRICE            SALE DATE  \n",
       "49607                              S1         NaN  2017-01-25 00:00:00  \n",
       "49608                              S1   2500000.0  2017-04-12 00:00:00  \n",
       "49609                              A5    625000.0  2017-03-23 00:00:00  \n",
       "49610                              A5    550000.0  2016-12-09 00:00:00  \n",
       "49611                              A3         NaN  2017-07-12 00:00:00  \n",
       "\n",
       "[5 rows x 22 columns]"
      ]
     },
     "execution_count": 7,
     "metadata": {},
     "output_type": "execute_result"
    }
   ],
   "source": [
    "\"\"\"\n",
    "Memilih tempat di Astoria\n",
    "\"\"\"\n",
    "df_astoria = df_nyc[df_nyc['NEIGHBORHOOD'] == 'ASTORIA']\n",
    "df_astoria.head()"
   ]
  },
  {
   "cell_type": "code",
   "execution_count": 8,
   "id": "f6e590b2",
   "metadata": {},
   "outputs": [
    {
     "data": {
      "text/html": [
       "<div>\n",
       "<style scoped>\n",
       "    .dataframe tbody tr th:only-of-type {\n",
       "        vertical-align: middle;\n",
       "    }\n",
       "\n",
       "    .dataframe tbody tr th {\n",
       "        vertical-align: top;\n",
       "    }\n",
       "\n",
       "    .dataframe thead th {\n",
       "        text-align: right;\n",
       "    }\n",
       "</style>\n",
       "<table border=\"1\" class=\"dataframe\">\n",
       "  <thead>\n",
       "    <tr style=\"text-align: right;\">\n",
       "      <th></th>\n",
       "      <th>Unnamed: 0</th>\n",
       "      <th>BOROUGH</th>\n",
       "      <th>NEIGHBORHOOD</th>\n",
       "      <th>BUILDING CLASS CATEGORY</th>\n",
       "      <th>TAX CLASS AT PRESENT</th>\n",
       "      <th>BLOCK</th>\n",
       "      <th>LOT</th>\n",
       "      <th>EASE-MENT</th>\n",
       "      <th>BUILDING CLASS AT PRESENT</th>\n",
       "      <th>ADDRESS</th>\n",
       "      <th>...</th>\n",
       "      <th>RESIDENTIAL UNITS</th>\n",
       "      <th>COMMERCIAL UNITS</th>\n",
       "      <th>TOTAL UNITS</th>\n",
       "      <th>LAND SQUARE FEET</th>\n",
       "      <th>GROSS SQUARE FEET</th>\n",
       "      <th>YEAR BUILT</th>\n",
       "      <th>TAX CLASS AT TIME OF SALE</th>\n",
       "      <th>BUILDING CLASS AT TIME OF SALE</th>\n",
       "      <th>SALE PRICE</th>\n",
       "      <th>SALE DATE</th>\n",
       "    </tr>\n",
       "  </thead>\n",
       "  <tbody>\n",
       "    <tr>\n",
       "      <th>49607</th>\n",
       "      <td>209</td>\n",
       "      <td>4</td>\n",
       "      <td>ASTORIA</td>\n",
       "      <td>01 ONE FAMILY DWELLINGS</td>\n",
       "      <td>1</td>\n",
       "      <td>534</td>\n",
       "      <td>28</td>\n",
       "      <td></td>\n",
       "      <td>S1</td>\n",
       "      <td>30-83 14TH   STREET</td>\n",
       "      <td>...</td>\n",
       "      <td>1</td>\n",
       "      <td>1</td>\n",
       "      <td>2</td>\n",
       "      <td>2426.0</td>\n",
       "      <td>2512.0</td>\n",
       "      <td>1920</td>\n",
       "      <td>1</td>\n",
       "      <td>S1</td>\n",
       "      <td>NaN</td>\n",
       "      <td>2017-01-25 00:00:00</td>\n",
       "    </tr>\n",
       "    <tr>\n",
       "      <th>49608</th>\n",
       "      <td>210</td>\n",
       "      <td>4</td>\n",
       "      <td>ASTORIA</td>\n",
       "      <td>01 ONE FAMILY DWELLINGS</td>\n",
       "      <td>1</td>\n",
       "      <td>552</td>\n",
       "      <td>19</td>\n",
       "      <td></td>\n",
       "      <td>S1</td>\n",
       "      <td>21-10 31ST   AVENUE</td>\n",
       "      <td>...</td>\n",
       "      <td>1</td>\n",
       "      <td>1</td>\n",
       "      <td>2</td>\n",
       "      <td>2850.0</td>\n",
       "      <td>3276.0</td>\n",
       "      <td>1984</td>\n",
       "      <td>1</td>\n",
       "      <td>S1</td>\n",
       "      <td>2500000.0</td>\n",
       "      <td>2017-04-12 00:00:00</td>\n",
       "    </tr>\n",
       "    <tr>\n",
       "      <th>49609</th>\n",
       "      <td>211</td>\n",
       "      <td>4</td>\n",
       "      <td>ASTORIA</td>\n",
       "      <td>01 ONE FAMILY DWELLINGS</td>\n",
       "      <td>1</td>\n",
       "      <td>565</td>\n",
       "      <td>42</td>\n",
       "      <td></td>\n",
       "      <td>A5</td>\n",
       "      <td>23-21 33RD   ROAD</td>\n",
       "      <td>...</td>\n",
       "      <td>1</td>\n",
       "      <td>0</td>\n",
       "      <td>1</td>\n",
       "      <td>1566.0</td>\n",
       "      <td>1224.0</td>\n",
       "      <td>1945</td>\n",
       "      <td>1</td>\n",
       "      <td>A5</td>\n",
       "      <td>625000.0</td>\n",
       "      <td>2017-03-23 00:00:00</td>\n",
       "    </tr>\n",
       "    <tr>\n",
       "      <th>49610</th>\n",
       "      <td>212</td>\n",
       "      <td>4</td>\n",
       "      <td>ASTORIA</td>\n",
       "      <td>01 ONE FAMILY DWELLINGS</td>\n",
       "      <td>1</td>\n",
       "      <td>565</td>\n",
       "      <td>42</td>\n",
       "      <td></td>\n",
       "      <td>A5</td>\n",
       "      <td>23-21 33RD ROAD</td>\n",
       "      <td>...</td>\n",
       "      <td>1</td>\n",
       "      <td>0</td>\n",
       "      <td>1</td>\n",
       "      <td>1566.0</td>\n",
       "      <td>1224.0</td>\n",
       "      <td>1945</td>\n",
       "      <td>1</td>\n",
       "      <td>A5</td>\n",
       "      <td>550000.0</td>\n",
       "      <td>2016-12-09 00:00:00</td>\n",
       "    </tr>\n",
       "    <tr>\n",
       "      <th>49611</th>\n",
       "      <td>213</td>\n",
       "      <td>4</td>\n",
       "      <td>ASTORIA</td>\n",
       "      <td>01 ONE FAMILY DWELLINGS</td>\n",
       "      <td>1</td>\n",
       "      <td>622</td>\n",
       "      <td>60</td>\n",
       "      <td></td>\n",
       "      <td>A3</td>\n",
       "      <td>32-36 35TH   STREET</td>\n",
       "      <td>...</td>\n",
       "      <td>1</td>\n",
       "      <td>0</td>\n",
       "      <td>1</td>\n",
       "      <td>2500.0</td>\n",
       "      <td>1204.0</td>\n",
       "      <td>1920</td>\n",
       "      <td>1</td>\n",
       "      <td>A3</td>\n",
       "      <td>NaN</td>\n",
       "      <td>2017-07-12 00:00:00</td>\n",
       "    </tr>\n",
       "    <tr>\n",
       "      <th>...</th>\n",
       "      <td>...</td>\n",
       "      <td>...</td>\n",
       "      <td>...</td>\n",
       "      <td>...</td>\n",
       "      <td>...</td>\n",
       "      <td>...</td>\n",
       "      <td>...</td>\n",
       "      <td>...</td>\n",
       "      <td>...</td>\n",
       "      <td>...</td>\n",
       "      <td>...</td>\n",
       "      <td>...</td>\n",
       "      <td>...</td>\n",
       "      <td>...</td>\n",
       "      <td>...</td>\n",
       "      <td>...</td>\n",
       "      <td>...</td>\n",
       "      <td>...</td>\n",
       "      <td>...</td>\n",
       "      <td>...</td>\n",
       "      <td>...</td>\n",
       "    </tr>\n",
       "    <tr>\n",
       "      <th>50622</th>\n",
       "      <td>1224</td>\n",
       "      <td>4</td>\n",
       "      <td>ASTORIA</td>\n",
       "      <td>22 STORE BUILDINGS</td>\n",
       "      <td>4</td>\n",
       "      <td>624</td>\n",
       "      <td>38</td>\n",
       "      <td></td>\n",
       "      <td>K4</td>\n",
       "      <td>3402 31 AVE</td>\n",
       "      <td>...</td>\n",
       "      <td>1</td>\n",
       "      <td>2</td>\n",
       "      <td>3</td>\n",
       "      <td>2020.0</td>\n",
       "      <td>3920.0</td>\n",
       "      <td>1924</td>\n",
       "      <td>4</td>\n",
       "      <td>K4</td>\n",
       "      <td>NaN</td>\n",
       "      <td>2017-08-15 00:00:00</td>\n",
       "    </tr>\n",
       "    <tr>\n",
       "      <th>50631</th>\n",
       "      <td>1233</td>\n",
       "      <td>4</td>\n",
       "      <td>ASTORIA</td>\n",
       "      <td>22 STORE BUILDINGS</td>\n",
       "      <td>4</td>\n",
       "      <td>661</td>\n",
       "      <td>41</td>\n",
       "      <td></td>\n",
       "      <td>K2</td>\n",
       "      <td>37-17 30TH AVENUE</td>\n",
       "      <td>...</td>\n",
       "      <td>1</td>\n",
       "      <td>2</td>\n",
       "      <td>3</td>\n",
       "      <td>2513.0</td>\n",
       "      <td>4046.0</td>\n",
       "      <td>1928</td>\n",
       "      <td>4</td>\n",
       "      <td>K2</td>\n",
       "      <td>NaN</td>\n",
       "      <td>2017-01-24 00:00:00</td>\n",
       "    </tr>\n",
       "    <tr>\n",
       "      <th>50634</th>\n",
       "      <td>1236</td>\n",
       "      <td>4</td>\n",
       "      <td>ASTORIA</td>\n",
       "      <td>22 STORE BUILDINGS</td>\n",
       "      <td>4</td>\n",
       "      <td>684</td>\n",
       "      <td>16</td>\n",
       "      <td></td>\n",
       "      <td>K4</td>\n",
       "      <td>25-73 STEINWAY STREET</td>\n",
       "      <td>...</td>\n",
       "      <td>1</td>\n",
       "      <td>2</td>\n",
       "      <td>3</td>\n",
       "      <td>1728.0</td>\n",
       "      <td>3660.0</td>\n",
       "      <td>1920</td>\n",
       "      <td>4</td>\n",
       "      <td>K4</td>\n",
       "      <td>NaN</td>\n",
       "      <td>2017-05-25 00:00:00</td>\n",
       "    </tr>\n",
       "    <tr>\n",
       "      <th>50635</th>\n",
       "      <td>1237</td>\n",
       "      <td>4</td>\n",
       "      <td>ASTORIA</td>\n",
       "      <td>22 STORE BUILDINGS</td>\n",
       "      <td>4</td>\n",
       "      <td>684</td>\n",
       "      <td>16</td>\n",
       "      <td></td>\n",
       "      <td>K4</td>\n",
       "      <td>25-73 STEINWAY STREET</td>\n",
       "      <td>...</td>\n",
       "      <td>1</td>\n",
       "      <td>2</td>\n",
       "      <td>3</td>\n",
       "      <td>1728.0</td>\n",
       "      <td>3660.0</td>\n",
       "      <td>1920</td>\n",
       "      <td>4</td>\n",
       "      <td>K4</td>\n",
       "      <td>NaN</td>\n",
       "      <td>2017-03-02 00:00:00</td>\n",
       "    </tr>\n",
       "    <tr>\n",
       "      <th>50638</th>\n",
       "      <td>1240</td>\n",
       "      <td>4</td>\n",
       "      <td>ASTORIA</td>\n",
       "      <td>22 STORE BUILDINGS</td>\n",
       "      <td>4</td>\n",
       "      <td>709</td>\n",
       "      <td>1</td>\n",
       "      <td></td>\n",
       "      <td>K4</td>\n",
       "      <td>44-19 BROADWAY</td>\n",
       "      <td>...</td>\n",
       "      <td>1</td>\n",
       "      <td>1</td>\n",
       "      <td>2</td>\n",
       "      <td>2500.0</td>\n",
       "      <td>3425.0</td>\n",
       "      <td>1931</td>\n",
       "      <td>4</td>\n",
       "      <td>K4</td>\n",
       "      <td>NaN</td>\n",
       "      <td>2017-08-21 00:00:00</td>\n",
       "    </tr>\n",
       "  </tbody>\n",
       "</table>\n",
       "<p>265 rows × 22 columns</p>\n",
       "</div>"
      ],
      "text/plain": [
       "       Unnamed: 0  BOROUGH NEIGHBORHOOD  \\\n",
       "49607         209        4      ASTORIA   \n",
       "49608         210        4      ASTORIA   \n",
       "49609         211        4      ASTORIA   \n",
       "49610         212        4      ASTORIA   \n",
       "49611         213        4      ASTORIA   \n",
       "...           ...      ...          ...   \n",
       "50622        1224        4      ASTORIA   \n",
       "50631        1233        4      ASTORIA   \n",
       "50634        1236        4      ASTORIA   \n",
       "50635        1237        4      ASTORIA   \n",
       "50638        1240        4      ASTORIA   \n",
       "\n",
       "                           BUILDING CLASS CATEGORY TAX CLASS AT PRESENT  \\\n",
       "49607  01 ONE FAMILY DWELLINGS                                        1   \n",
       "49608  01 ONE FAMILY DWELLINGS                                        1   \n",
       "49609  01 ONE FAMILY DWELLINGS                                        1   \n",
       "49610  01 ONE FAMILY DWELLINGS                                        1   \n",
       "49611  01 ONE FAMILY DWELLINGS                                        1   \n",
       "...                                            ...                  ...   \n",
       "50622  22 STORE BUILDINGS                                             4   \n",
       "50631  22 STORE BUILDINGS                                             4   \n",
       "50634  22 STORE BUILDINGS                                             4   \n",
       "50635  22 STORE BUILDINGS                                             4   \n",
       "50638  22 STORE BUILDINGS                                             4   \n",
       "\n",
       "       BLOCK  LOT EASE-MENT BUILDING CLASS AT PRESENT                ADDRESS  \\\n",
       "49607    534   28                                  S1    30-83 14TH   STREET   \n",
       "49608    552   19                                  S1    21-10 31ST   AVENUE   \n",
       "49609    565   42                                  A5      23-21 33RD   ROAD   \n",
       "49610    565   42                                  A5        23-21 33RD ROAD   \n",
       "49611    622   60                                  A3    32-36 35TH   STREET   \n",
       "...      ...  ...       ...                       ...                    ...   \n",
       "50622    624   38                                  K4            3402 31 AVE   \n",
       "50631    661   41                                  K2      37-17 30TH AVENUE   \n",
       "50634    684   16                                  K4  25-73 STEINWAY STREET   \n",
       "50635    684   16                                  K4  25-73 STEINWAY STREET   \n",
       "50638    709    1                                  K4         44-19 BROADWAY   \n",
       "\n",
       "       ... RESIDENTIAL UNITS  COMMERCIAL UNITS  TOTAL UNITS  LAND SQUARE FEET  \\\n",
       "49607  ...                 1                 1            2            2426.0   \n",
       "49608  ...                 1                 1            2            2850.0   \n",
       "49609  ...                 1                 0            1            1566.0   \n",
       "49610  ...                 1                 0            1            1566.0   \n",
       "49611  ...                 1                 0            1            2500.0   \n",
       "...    ...               ...               ...          ...               ...   \n",
       "50622  ...                 1                 2            3            2020.0   \n",
       "50631  ...                 1                 2            3            2513.0   \n",
       "50634  ...                 1                 2            3            1728.0   \n",
       "50635  ...                 1                 2            3            1728.0   \n",
       "50638  ...                 1                 1            2            2500.0   \n",
       "\n",
       "       GROSS SQUARE FEET  YEAR BUILT  TAX CLASS AT TIME OF SALE  \\\n",
       "49607             2512.0        1920                          1   \n",
       "49608             3276.0        1984                          1   \n",
       "49609             1224.0        1945                          1   \n",
       "49610             1224.0        1945                          1   \n",
       "49611             1204.0        1920                          1   \n",
       "...                  ...         ...                        ...   \n",
       "50622             3920.0        1924                          4   \n",
       "50631             4046.0        1928                          4   \n",
       "50634             3660.0        1920                          4   \n",
       "50635             3660.0        1920                          4   \n",
       "50638             3425.0        1931                          4   \n",
       "\n",
       "       BUILDING CLASS AT TIME OF SALE  SALE PRICE            SALE DATE  \n",
       "49607                              S1         NaN  2017-01-25 00:00:00  \n",
       "49608                              S1   2500000.0  2017-04-12 00:00:00  \n",
       "49609                              A5    625000.0  2017-03-23 00:00:00  \n",
       "49610                              A5    550000.0  2016-12-09 00:00:00  \n",
       "49611                              A3         NaN  2017-07-12 00:00:00  \n",
       "...                               ...         ...                  ...  \n",
       "50622                              K4         NaN  2017-08-15 00:00:00  \n",
       "50631                              K2         NaN  2017-01-24 00:00:00  \n",
       "50634                              K4         NaN  2017-05-25 00:00:00  \n",
       "50635                              K4         NaN  2017-03-02 00:00:00  \n",
       "50638                              K4         NaN  2017-08-21 00:00:00  \n",
       "\n",
       "[265 rows x 22 columns]"
      ]
     },
     "execution_count": 8,
     "metadata": {},
     "output_type": "execute_result"
    }
   ],
   "source": [
    "df_astoria[df_astoria['RESIDENTIAL UNITS'] == 1]\n",
    "# df_astoria[df_astoria['BUILDING CLASS AT PRESENT'] != df_astoria['BUILDING CLASS AT TIME OF SALE'] ]"
   ]
  },
  {
   "cell_type": "code",
   "execution_count": 9,
   "id": "61d11c74",
   "metadata": {},
   "outputs": [
    {
     "name": "stderr",
     "output_type": "stream",
     "text": [
      "C:\\Users\\inayah\\AppData\\Local\\Temp\\ipykernel_1692\\2090589393.py:1: SettingWithCopyWarning: \n",
      "A value is trying to be set on a copy of a slice from a DataFrame.\n",
      "Try using .loc[row_indexer,col_indexer] = value instead\n",
      "\n",
      "See the caveats in the documentation: https://pandas.pydata.org/pandas-docs/stable/user_guide/indexing.html#returning-a-view-versus-a-copy\n",
      "  df_astoria['LAND SQUARE FEET'] = pd.to_numeric(df_astoria['LAND SQUARE FEET'])\n"
     ]
    },
    {
     "data": {
      "text/plain": [
       "49607    2426.0\n",
       "49608    2850.0\n",
       "49609    1566.0\n",
       "49610    1566.0\n",
       "49611    2500.0\n",
       "          ...  \n",
       "50818       NaN\n",
       "50819       NaN\n",
       "50820       NaN\n",
       "50821       NaN\n",
       "50822       NaN\n",
       "Name: LAND SQUARE FEET, Length: 1216, dtype: float64"
      ]
     },
     "execution_count": 9,
     "metadata": {},
     "output_type": "execute_result"
    }
   ],
   "source": [
    "df_astoria['LAND SQUARE FEET'] = pd.to_numeric(df_astoria['LAND SQUARE FEET'])\n",
    "df_astoria['LAND SQUARE FEET']"
   ]
  },
  {
   "cell_type": "code",
   "execution_count": 10,
   "id": "04d85b09",
   "metadata": {},
   "outputs": [],
   "source": [
    "df_astoria_one_resident = df_astoria[(df_astoria['RESIDENTIAL UNITS'] == 1) & \n",
    "           (df_astoria['TOTAL UNITS'] == 1) & \n",
    "           (~df_astoria['GROSS SQUARE FEET'].isna()) & \n",
    "           (~df_astoria['LAND SQUARE FEET'].isna())]"
   ]
  },
  {
   "cell_type": "code",
   "execution_count": 11,
   "id": "dc5c8ce1",
   "metadata": {},
   "outputs": [
    {
     "name": "stdout",
     "output_type": "stream",
     "text": [
      "1367.9032258064517\n",
      "2155.2795698924733\n"
     ]
    }
   ],
   "source": [
    "\"\"\"\n",
    "Menghitung rata-rata unit total di Astoria\n",
    "\"\"\"\n",
    "print(df_astoria_one_resident['GROSS SQUARE FEET'].mean())\n",
    "print(df_astoria_one_resident['LAND SQUARE FEET'].mean())"
   ]
  },
  {
   "cell_type": "markdown",
   "id": "5a82bfa4",
   "metadata": {},
   "source": [
    "## Measure of Central Tendency : Median"
   ]
  },
  {
   "cell_type": "code",
   "execution_count": 12,
   "id": "90c60dd5",
   "metadata": {},
   "outputs": [
    {
     "name": "stdout",
     "output_type": "stream",
     "text": [
      "1357.0\n",
      "2000.0\n"
     ]
    }
   ],
   "source": [
    "\"\"\"\n",
    "Menghitung median unit total di Astoria\n",
    "\"\"\"\n",
    "print(df_astoria_one_resident['GROSS SQUARE FEET'].median())\n",
    "print(df_astoria_one_resident['LAND SQUARE FEET'].median())"
   ]
  },
  {
   "cell_type": "markdown",
   "id": "25a13b8e",
   "metadata": {},
   "source": [
    "## Measure of Central Tendency : Mode"
   ]
  },
  {
   "cell_type": "code",
   "execution_count": 13,
   "id": "b4363f7e",
   "metadata": {},
   "outputs": [
    {
     "name": "stdout",
     "output_type": "stream",
     "text": [
      "0    960.0\n",
      "Name: GROSS SQUARE FEET, dtype: float64\n",
      "0    2000.0\n",
      "Name: LAND SQUARE FEET, dtype: float64\n"
     ]
    }
   ],
   "source": [
    "\"\"\"\n",
    "Menghitung mode unit total di Astoria\n",
    "\"\"\"\n",
    "\n",
    "print(df_astoria_one_resident['GROSS SQUARE FEET'].mode())\n",
    "print(df_astoria_one_resident['LAND SQUARE FEET'].mode())"
   ]
  },
  {
   "cell_type": "markdown",
   "id": "805a19ec",
   "metadata": {},
   "source": [
    "## Measure of Spread : Range"
   ]
  },
  {
   "cell_type": "code",
   "execution_count": 14,
   "id": "154f7e6a",
   "metadata": {},
   "outputs": [
    {
     "name": "stdout",
     "output_type": "stream",
     "text": [
      "2142.0\n",
      "6036.0\n"
     ]
    }
   ],
   "source": [
    "print(np.ptp(df_astoria_one_resident['GROSS SQUARE FEET'])) \n",
    "print(np.ptp(df_astoria_one_resident['LAND SQUARE FEET'])) "
   ]
  },
  {
   "cell_type": "markdown",
   "id": "47e76022",
   "metadata": {},
   "source": [
    "## Measure of Spread : Variance"
   ]
  },
  {
   "cell_type": "code",
   "execution_count": 15,
   "id": "a0045c64",
   "metadata": {},
   "outputs": [
    {
     "name": "stdout",
     "output_type": "stream",
     "text": [
      "134188.15357643753\n",
      "651869.877512857\n"
     ]
    }
   ],
   "source": [
    "print(df_astoria_one_resident['GROSS SQUARE FEET'].var())\n",
    "print(df_astoria_one_resident['LAND SQUARE FEET'].var())"
   ]
  },
  {
   "cell_type": "markdown",
   "id": "2ad8b31e",
   "metadata": {},
   "source": [
    "## Measure of Spread : Standard Deviation"
   ]
  },
  {
   "cell_type": "code",
   "execution_count": 16,
   "id": "aafe039a",
   "metadata": {},
   "outputs": [
    {
     "name": "stdout",
     "output_type": "stream",
     "text": [
      "366.31701240378885\n",
      "807.3845908319383\n"
     ]
    }
   ],
   "source": [
    "print(statistics.stdev(df_astoria_one_resident['GROSS SQUARE FEET']))\n",
    "print(statistics.stdev(df_astoria_one_resident['LAND SQUARE FEET']))"
   ]
  },
  {
   "cell_type": "markdown",
   "id": "06082983",
   "metadata": {},
   "source": [
    "## Probability Distribution"
   ]
  },
  {
   "cell_type": "code",
   "execution_count": 17,
   "id": "a7e0e1f3",
   "metadata": {},
   "outputs": [
    {
     "data": {
      "text/plain": [
       "<seaborn.axisgrid.FacetGrid at 0x298dfba6310>"
      ]
     },
     "execution_count": 17,
     "metadata": {},
     "output_type": "execute_result"
    },
    {
     "data": {
      "image/png": "[encoded data removed]",
      "text/plain": [
       "<Figure size 500x500 with 1 Axes>"
      ]
     },
     "metadata": {},
     "output_type": "display_data"
    }
   ],
   "source": [
    "ax = sns.displot(df_astoria_one_resident['GROSS SQUARE FEET'],\n",
    "                 kde=True,\n",
    "                 bins=100,\n",
    "                )\n",
    "ax.set_titles('Probability Distribution for Gross Square Feet in Astoria')\n",
    "ax.set_ylabels('Frequency')"
   ]
  },
  {
   "cell_type": "code",
   "execution_count": 18,
   "id": "c2a793a5",
   "metadata": {},
   "outputs": [
    {
     "data": {
      "text/plain": [
       "<seaborn.axisgrid.FacetGrid at 0x298e02d7ac0>"
      ]
     },
     "execution_count": 18,
     "metadata": {},
     "output_type": "execute_result"
    },
    {
     "data": {
      "image/png": "[encoded data removed]",
      "text/plain": [
       "<Figure size 500x500 with 1 Axes>"
      ]
     },
     "metadata": {},
     "output_type": "display_data"
    }
   ],
   "source": [
    "ax = sns.displot(df_astoria_one_resident['LAND SQUARE FEET'],\n",
    "                 kde=True,\n",
    "                 bins=100,\n",
    "                )\n",
    "ax.set_titles('Probability Distribution for land Square Feet in Astoria')\n",
    "ax.set_ylabels('Frequency')"
   ]
  },
  {
   "cell_type": "markdown",
   "id": "5702cba0",
   "metadata": {},
   "source": [
    "## Confidence Intervals"
   ]
  },
  {
   "cell_type": "code",
   "execution_count": 19,
   "id": "88b32e86",
   "metadata": {},
   "outputs": [
    {
     "name": "stdout",
     "output_type": "stream",
     "text": [
      "['S1' 'A5' 'A3' 'A1' 'A2' 'A9' 'B1' 'B2' 'B3' 'S2' 'B9' 'C0' 'R3' 'R6'\n",
      " 'V0' 'V2' 'G0' 'C1' 'C2' 'C4' 'C3' 'C7' 'D1' 'C6' 'D4' 'RR' 'R2' 'R4' ' '\n",
      " 'S4' 'S3' 'S9' 'S5' 'R1' 'R9' 'O7' 'O5' 'K1' 'K4' 'K2' 'K9' 'F5' 'F4'\n",
      " 'V1' 'G6' 'G1' 'G7' 'E9' 'E1' 'E2' 'W4' 'P6' 'Q9' 'RB' 'RG' 'RP' 'RK'\n",
      " 'RS']\n",
      "['A5' 'A3' 'A1' 'A2' 'A9']\n"
     ]
    }
   ],
   "source": [
    "# df_astoria_one_resident[df_astoria_one_resident['BUILDING CLASS AT PRESENT'] == 'A2']\n",
    "x = df_astoria['BUILDING CLASS AT PRESENT'].unique()\n",
    "y = df_astoria_one_resident['BUILDING CLASS AT PRESENT'].unique()\n",
    "print(x, y, sep='\\n')"
   ]
  },
  {
   "cell_type": "code",
   "execution_count": 20,
   "id": "5b389d13",
   "metadata": {},
   "outputs": [
    {
     "data": {
      "text/plain": [
       "807.3845908319383"
      ]
     },
     "execution_count": 20,
     "metadata": {},
     "output_type": "execute_result"
    }
   ],
   "source": [
    "# Menghitung mean, n, z, dan standar deviasi\n",
    "\n",
    "mean_aor = df_astoria_one_resident['LAND SQUARE FEET'].mean()\n",
    "n_aor = df_astoria_one_resident['LAND SQUARE FEET'].count()\n",
    "sd_aor = statistics.stdev(df_astoria_one_resident['LAND SQUARE FEET'])\n",
    "z = 1.96 #95%\n",
    "sd_aor"
   ]
  },
  {
   "cell_type": "code",
   "execution_count": 21,
   "id": "6ed671a8",
   "metadata": {},
   "outputs": [
    {
     "data": {
      "text/plain": [
       "(1991.184681219041, 2319.3744585659056)"
      ]
     },
     "execution_count": 21,
     "metadata": {},
     "output_type": "execute_result"
    }
   ],
   "source": [
    "lcb = mean_aor - z * (sd_aor/np.sqrt(n_aor))\n",
    "ucb = mean_aor + z * (sd_aor/np.sqrt(n_aor))\n",
    "\n",
    "lcb, ucb"
   ]
  },
  {
   "cell_type": "markdown",
   "id": "2ba80246",
   "metadata": {},
   "source": [
    "## Hypothesis Testing"
   ]
  },
  {
   "cell_type": "code",
   "execution_count": 22,
   "id": "7cb3b4c0",
   "metadata": {},
   "outputs": [],
   "source": [
    "from scipy.stats import pearsonr\n",
    "alpha = 0.05"
   ]
  },
  {
   "cell_type": "code",
   "execution_count": 23,
   "id": "2492e233",
   "metadata": {},
   "outputs": [
    {
     "name": "stdout",
     "output_type": "stream",
     "text": [
      "stat:  0.155586858188736  p:  0.1364300990232598\n",
      "Keduanya independen\n"
     ]
    }
   ],
   "source": [
    "stat, p = pearsonr(df_astoria_one_resident['LAND SQUARE FEET'], df_astoria_one_resident['GROSS SQUARE FEET'])\n",
    "print('stat: ', stat , ' p: ' ,p)\n",
    "if p > alpha:\n",
    "    print('Keduanya independen')\n",
    "else:\n",
    "    print('keduanya dependen')"
   ]
  },
  {
   "cell_type": "markdown",
   "id": "435b098c",
   "metadata": {},
   "source": [
    "# Analisys"
   ]
  },
  {
   "cell_type": "markdown",
   "id": "7967a48a",
   "metadata": {},
   "source": [
    "Saya menganalisis data pada wilayah Astoria dengan objeknya adalah LAND SQUARE FEET dan GROSS SQUARE FEET dengan kondisi masing-masing memiliki satu residen dan total unit hanya satu.\n",
    "\n",
    "- Dalam pengukuran Measure of Central Tedency, rata-rata keduanya berbeda cukup jauh. Untuk GSF mendapatkan 1367.9032258064517 dan LSF mendapatkan 2155.2795698924733 . Titik tengah GSF yaitu 1357 dan LSF yaitu 2000. Untuk mode, GSF yaitu 960 dan LSF yaitu 2000.\n",
    "\n",
    "- Dalam pengukuran measure of spread , range yang didapat adalah 2142 untuk GSF dan 6036 untuk LSF. Untuk variance, GSF mendapatkan 134188.1535764376 dan LSF mendapatkan 651869.8775128565 . Terakhir, standard deviation GSF adalah 366.31701240378885 dan standard deviation LSF adalah 807.3845908319383\n",
    "\n",
    "- Distribusi probabilitas terlihat seperti distribusi normal. Untuk Confidence Interval, saya hanya mengambil LSF saja. Hasil CI berada di antara 1991.184681219041 - 2319.3744585659056 ."
   ]
  },
  {
   "cell_type": "code",
   "execution_count": null,
   "id": "870ddb90",
   "metadata": {},
   "outputs": [],
   "source": []
  }
 ],
 "metadata": {
  "kernelspec": {
   "display_name": "Python 3 (ipykernel)",
   "language": "python",
   "name": "python3"
  },
  "language_info": {
   "codemirror_mode": {
    "name": "ipython",
    "version": 3
   },
   "file_extension": ".py",
   "mimetype": "text/x-python",
   "name": "python",
   "nbconvert_exporter": "python",
   "pygments_lexer": "ipython3",
   "version": "3.9.13"
  }
 },
 "nbformat": 4,
 "nbformat_minor": 5
}
